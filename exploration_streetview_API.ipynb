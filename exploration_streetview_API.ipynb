{
 "cells": [
  {
   "attachments": {},
   "cell_type": "markdown",
   "metadata": {},
   "source": [
    "# Exploring the Google Static Streetview API\n",
    "Author: Q. Goens"
   ]
  },
  {
   "cell_type": "code",
   "execution_count": 31,
   "metadata": {},
   "outputs": [],
   "source": [
    "import requests\n",
    "import os\n",
    "\n",
    "# Get the API key from the environment variables\n",
    "API_KEY = os.environ.get('API_KEY_GOOGLE_MAPS')\n",
    "\n",
    "# API endpoint\n",
    "API_URL = \"https://maps.googleapis.com/maps/api/streetview?\"\n",
    "\n",
    "# Define the parameters\n",
    "PARAMS = {\n",
    "    'size': '1000x600',\n",
    "    'location': '50.82661,4.35079',\n",
    "    'fov': '80',\n",
    "    'heading': '140',\n",
    "    'pitch': '0',\n",
    "    'key':API_KEY}\n",
    "\n",
    "# Make the request\n",
    "r = requests.get(url = API_URL, params = PARAMS)\n",
    "\n",
    "# Save the image\n",
    "with open('streetview.jpg', 'wb') as f:\n",
    "    f.write(r.content)\n"
   ]
  },
  {
   "cell_type": "code",
   "execution_count": 32,
   "metadata": {},
   "outputs": [],
   "source": []
  }
 ],
 "metadata": {
  "kernelspec": {
   "display_name": "Python 3.9.13 ('base')",
   "language": "python",
   "name": "python3"
  },
  "language_info": {
   "codemirror_mode": {
    "name": "ipython",
    "version": 3
   },
   "file_extension": ".py",
   "mimetype": "text/x-python",
   "name": "python",
   "nbconvert_exporter": "python",
   "pygments_lexer": "ipython3",
   "version": "3.9.13"
  },
  "orig_nbformat": 4,
  "vscode": {
   "interpreter": {
    "hash": "f094f52bb48861aee67bd24d942020c9c797b915d301d316106bbfa75a8caa37"
   }
  }
 },
 "nbformat": 4,
 "nbformat_minor": 2
}
